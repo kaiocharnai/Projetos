{
  "nbformat": 4,
  "nbformat_minor": 0,
  "metadata": {
    "colab": {
      "provenance": [],
      "authorship_tag": "ABX9TyNSxMLF70b1dLqm8x3yAXnn",
      "include_colab_link": true
    },
    "kernelspec": {
      "name": "python3",
      "display_name": "Python 3"
    },
    "language_info": {
      "name": "python"
    }
  },
  "cells": [
    {
      "cell_type": "markdown",
      "metadata": {
        "id": "view-in-github",
        "colab_type": "text"
      },
      "source": [
        "<a href=\"https://colab.research.google.com/github/kaiocharnai/Projetos/blob/main/Aula_0_de_Python.ipynb\" target=\"_parent\"><img src=\"https://colab.research.google.com/assets/colab-badge.svg\" alt=\"Open In Colab\"/></a>"
      ]
    },
    {
      "cell_type": "code",
      "source": [
        "saldo = 5000"
      ],
      "metadata": {
        "id": "Ez3qoqKsjQAb"
      },
      "execution_count": 9,
      "outputs": []
    },
    {
      "cell_type": "code",
      "source": [
        "saldo = saldo + 2000"
      ],
      "metadata": {
        "id": "tUWSMlgnjTgL"
      },
      "execution_count": 10,
      "outputs": []
    },
    {
      "cell_type": "code",
      "source": [
        "saldo"
      ],
      "metadata": {
        "colab": {
          "base_uri": "https://localhost:8080/"
        },
        "id": "rIilQbTsjZ0S",
        "outputId": "3ebafeb6-7c05-4ed0-dde2-9f6326bd9577"
      },
      "execution_count": 11,
      "outputs": [
        {
          "output_type": "execute_result",
          "data": {
            "text/plain": [
              "7000"
            ]
          },
          "metadata": {},
          "execution_count": 11
        }
      ]
    },
    {
      "cell_type": "code",
      "source": [
        "print('R$', saldo)"
      ],
      "metadata": {
        "colab": {
          "base_uri": "https://localhost:8080/"
        },
        "id": "JKg37YIZjgkD",
        "outputId": "729104ad-e383-4c2e-b31c-1423bae3347c"
      },
      "execution_count": 12,
      "outputs": [
        {
          "output_type": "stream",
          "name": "stdout",
          "text": [
            "R$ 7000\n"
          ]
        }
      ]
    },
    {
      "cell_type": "code",
      "source": [
        "saldo = saldo - 1000"
      ],
      "metadata": {
        "id": "3HGeYnnfjrfS"
      },
      "execution_count": 13,
      "outputs": []
    },
    {
      "cell_type": "code",
      "source": [
        "saldo"
      ],
      "metadata": {
        "colab": {
          "base_uri": "https://localhost:8080/"
        },
        "id": "Uxhf4xQ0ju37",
        "outputId": "fa0aecbb-f7d3-4ee4-fdc6-b9fde466b9e6"
      },
      "execution_count": 14,
      "outputs": [
        {
          "output_type": "execute_result",
          "data": {
            "text/plain": [
              "6000"
            ]
          },
          "metadata": {},
          "execution_count": 14
        }
      ]
    },
    {
      "cell_type": "code",
      "source": [
        "saldo = saldo * 2"
      ],
      "metadata": {
        "id": "RQJ_ZehVjyuS"
      },
      "execution_count": 15,
      "outputs": []
    },
    {
      "cell_type": "code",
      "source": [
        "saldo"
      ],
      "metadata": {
        "colab": {
          "base_uri": "https://localhost:8080/"
        },
        "id": "vEIJsfMNj3C7",
        "outputId": "1bb88eb1-5d44-46c7-c543-5e7199c63975"
      },
      "execution_count": 16,
      "outputs": [
        {
          "output_type": "execute_result",
          "data": {
            "text/plain": [
              "12000"
            ]
          },
          "metadata": {},
          "execution_count": 16
        }
      ]
    },
    {
      "cell_type": "code",
      "source": [
        "saldo = saldo / 5"
      ],
      "metadata": {
        "id": "lKN-btnlj5f6"
      },
      "execution_count": 17,
      "outputs": []
    },
    {
      "cell_type": "code",
      "source": [
        "saldo"
      ],
      "metadata": {
        "colab": {
          "base_uri": "https://localhost:8080/"
        },
        "id": "NcxSGuJVj8g7",
        "outputId": "19894048-c342-4154-edbe-588728125835"
      },
      "execution_count": 18,
      "outputs": [
        {
          "output_type": "execute_result",
          "data": {
            "text/plain": [
              "2400.0"
            ]
          },
          "metadata": {},
          "execution_count": 18
        }
      ]
    },
    {
      "cell_type": "code",
      "source": [
        "idade = 18\n",
        "\n",
        "#se idade for maior que 18\n",
        "#pode dirigir\n",
        "#senão\n",
        "#não pode dirigir\n",
        "\n",
        "\n",
        "if idade >= 18:\n",
        "  print('Pode dirigir')\n",
        "else:\n",
        "  print('Não pode dirigir')"
      ],
      "metadata": {
        "colab": {
          "base_uri": "https://localhost:8080/"
        },
        "id": "ylGYbem0lD_q",
        "outputId": "781e061d-c307-4b4a-eb25-c36d9d3a3617"
      },
      "execution_count": 23,
      "outputs": [
        {
          "output_type": "stream",
          "name": "stdout",
          "text": [
            "Pode dirigir\n"
          ]
        }
      ]
    },
    {
      "cell_type": "code",
      "source": [
        "# indica comentário"
      ],
      "metadata": {
        "id": "l7JCWP9HlYUz"
      },
      "execution_count": null,
      "outputs": []
    },
    {
      "cell_type": "code",
      "source": [],
      "metadata": {
        "id": "-S_0COYblijK"
      },
      "execution_count": null,
      "outputs": []
    }
  ]
}